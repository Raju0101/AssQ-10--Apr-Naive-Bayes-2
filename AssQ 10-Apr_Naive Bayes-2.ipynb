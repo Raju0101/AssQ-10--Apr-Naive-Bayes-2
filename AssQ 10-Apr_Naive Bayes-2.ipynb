{
 "cells": [
  {
   "cell_type": "markdown",
   "id": "798e9e6a-934c-4bcf-a8e7-9a3d8f66c685",
   "metadata": {},
   "source": [
    "# AssQ 10-Apr ML-Naive Bayes -2"
   ]
  },
  {
   "cell_type": "code",
   "execution_count": null,
   "id": "2aaf30c1-91b3-4c9d-90f8-b688a41a23fb",
   "metadata": {},
   "outputs": [],
   "source": [
    "Q1. A company conducted a survey of its employees and found that 70% of the employees use the \n",
    "company's health insurance plan, while 40% of the employees who use the plan are smokers. What is the \n",
    "probability that an employee is a smoker given that he/she uses the health insurance plan?"
   ]
  },
  {
   "cell_type": "code",
   "execution_count": null,
   "id": "7c7a158b-bea7-439e-bf01-a33efdf75784",
   "metadata": {},
   "outputs": [],
   "source": [
    "Pr(A/B) = [ Pr(A) * Pr(B/A)] / Pr(B)\n",
    "\n",
    "P (A | B) is the probability of event A being true when event B is true.\n",
    "P (B | A) is the probability of event B being true when event A is true. P (A) is the probability of event A being true.\n",
    "P (B) is the probability of event B being true.\n",
    "\n",
    "\n",
    "P(HIP) = P(h) = 70 %\n",
    "P(smoke) = P(s) = 40 %\n",
    "\n",
    "P(s/h) = [p(s) * P(h/s)] / P(h)\n",
    "\n",
    "          =  [40 * 70/40] / 70\n",
    "            \n",
    "           =  1\n",
    "            \n",
    "            so Probability is 0.001"
   ]
  },
  {
   "cell_type": "code",
   "execution_count": null,
   "id": "c1ea8a51-53f6-46d1-8c57-056862c56cdd",
   "metadata": {},
   "outputs": [],
   "source": []
  },
  {
   "cell_type": "code",
   "execution_count": null,
   "id": "1e8a0744-7418-40ad-aed2-e7f47ff032c1",
   "metadata": {},
   "outputs": [],
   "source": [
    "Q2. What is the difference between Bernoulli Naive Bayes and Multinomial Naive Bayes?"
   ]
  },
  {
   "cell_type": "code",
   "execution_count": null,
   "id": "8f19b70d-716e-4b39-8d43-4c78046f91e6",
   "metadata": {},
   "outputs": [],
   "source": [
    "Difference between Bernoulli, Multinomial and Gaussian Naive Bayes.\n",
    "Multinomial Naïve Bayes consider a feature vector where a given term represents the number \n",
    "of times it appears or very often i.e. frequency. On the other hand,\n",
    "Bernoulli is a binary algorithm used when the feature is present or not.\n",
    "\n",
    "Bernoulli Naive bayes is good at handling boolean/binary attributes,\n",
    "while Multinomial Naive bayes is good at handling discrete values and \n",
    "Gaussian naive bayes is good at handling continuous values.\n",
    "\n",
    "\n",
    "When classifying a test document, the Bernoulli model uses binary occurrence information,\n",
    "ignoring the number of occurrences, whereas the multinomial model keeps track of multiple occurrences. \n",
    "As a result, the Bernoulli model typically makes many mistakes when classifying long documents."
   ]
  },
  {
   "cell_type": "code",
   "execution_count": null,
   "id": "da1872fc-4b91-4842-921d-cc1ecae8c3da",
   "metadata": {},
   "outputs": [],
   "source": []
  },
  {
   "cell_type": "code",
   "execution_count": null,
   "id": "b714decf-c886-448b-a6e2-bff223e1e4e2",
   "metadata": {},
   "outputs": [],
   "source": [
    "Q3. How does Bernoulli Naive Bayes handle missing values?"
   ]
  },
  {
   "cell_type": "code",
   "execution_count": null,
   "id": "a57008d3-4a14-4984-91ca-f6441189e9ba",
   "metadata": {},
   "outputs": [],
   "source": [
    "3 options when dealing with missing values:\n",
    "\n",
    "ignore the data point if any categories contain a NaN (I.e. remove the row)\n",
    "Impute some other placeholder value (e.g. -1 etc.) or\n",
    "Impute some average value corresponding to the overall dataset distribution.\n",
    "\n",
    "However, these are not the best option for the following reason:\n",
    "\n",
    "Every single row contains at least 1 NaN. This means, under this arrangement I would discard the entire dataset. Obviously a no go.\n",
    "I do not want the missing value to add to the probability calculation,\n",
    "which will happen if I replace Nan with say -1. I'm also using a Bernoulli Naive Bayes, so as I understand, this requires singly 0 or 1 values.\n",
    "As this is categorical data, it does not make sense for me to do this, in this way (it was either seen or not, and if not, it is not needed).\n",
    "\n",
    "\n",
    "Naive Bayes can handle missing data. Attributes are handled separately by the algorithm,\n",
    "at both model construction time and prediction time. As such, if a data instance has a missing value for an attribute,\n",
    "it can be ignored while preparing the model,\n",
    "and ignored when a probability is calculated for a class value.\n",
    "\n",
    "BernoulliNB work only for Binary values and produces results that are computationally better than other traditional algorithms.\n",
    "Further, probabilistic nature make it more stable in relation to results.\n",
    "BeronoulliNB demands higher independence in feature in dataset."
   ]
  },
  {
   "cell_type": "code",
   "execution_count": null,
   "id": "674af8e5-36d4-439c-a313-ebfdfab6f1da",
   "metadata": {},
   "outputs": [],
   "source": []
  },
  {
   "cell_type": "code",
   "execution_count": null,
   "id": "7482f429-971a-4452-82e1-67581ecd0982",
   "metadata": {},
   "outputs": [],
   "source": [
    "Q4. Can Gaussian Naive Bayes be used for multi-class classification?"
   ]
  },
  {
   "cell_type": "code",
   "execution_count": null,
   "id": "0643e5d6-5f85-4f5d-82c0-2b479b4a620e",
   "metadata": {},
   "outputs": [],
   "source": [
    "No, there is no preprocessing, for the multiclass bit. However, \n",
    "for Gaussian bit - as name suggests this model will try to fit Gaussian\n",
    "\n",
    "there is no preprocessing, for the multiclass bit. However, for Gaussian bit - as name suggests this model will try\n",
    "to fit Gaussian pdf to each feature. Consequently if your features do not follow Gaussian distribution - it can fail. \n",
    "If you can figure out transformation of each feature (based on the data you have) to make them more Gaussian-like, \n",
    "it will help the model. For example, some of your features seem to be huge numbers, which can cause serious difficulties\n",
    "if they do not follow gaussian distribution. You might want to normalise your data,\n",
    "or even drop these features.\n",
    "\n",
    "Naive Bayes is a classification algorithm that is suitable for binary and multiclass classification."
   ]
  },
  {
   "cell_type": "code",
   "execution_count": null,
   "id": "24ce4f5a-1693-4a35-b1ba-3656c1615647",
   "metadata": {},
   "outputs": [],
   "source": []
  },
  {
   "cell_type": "code",
   "execution_count": null,
   "id": "d39bd174-2680-4da3-8e36-fb06c50ee176",
   "metadata": {},
   "outputs": [],
   "source": [
    "Q5. Assignment:\n",
    "    \n",
    "Data preparation:\n",
    "\n",
    "Download the \"Spambase Data Set\" from the UCI Machine Learning Repository (https://archive.ics.uci.edu/ml/\n",
    "datasets/Spambase). This dataset contains email messages, where the goal is to predict whether a message \n",
    "is spam or not based on several input features."
   ]
  },
  {
   "cell_type": "code",
   "execution_count": null,
   "id": "a191dc42-6b70-496e-9b5c-be49fccfe90e",
   "metadata": {},
   "outputs": [],
   "source": []
  }
 ],
 "metadata": {
  "kernelspec": {
   "display_name": "Python 3 (ipykernel)",
   "language": "python",
   "name": "python3"
  },
  "language_info": {
   "codemirror_mode": {
    "name": "ipython",
    "version": 3
   },
   "file_extension": ".py",
   "mimetype": "text/x-python",
   "name": "python",
   "nbconvert_exporter": "python",
   "pygments_lexer": "ipython3",
   "version": "3.10.6"
  }
 },
 "nbformat": 4,
 "nbformat_minor": 5
}
